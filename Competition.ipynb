{
 "cells": [
  {
   "cell_type": "code",
   "execution_count": 1,
   "metadata": {
    "collapsed": false
   },
   "outputs": [
    {
     "name": "stderr",
     "output_type": "stream",
     "text": [
      "/Users/jamesmwakichako/anaconda3/lib/python3.5/site-packages/pandas/computation/__init__.py:19: UserWarning: The installed version of numexpr 2.4.4 is not supported in pandas and will be not be used\n",
      "\n",
      "  UserWarning)\n"
     ]
    }
   ],
   "source": [
    "import pandas as pd\n",
    "import os\n",
    "import csv\n",
    "from IPython.display import Image\n",
    "from sklearn.feature_extraction.text import CountVectorizer\n",
    "from sklearn.model_selection import train_test_split\n",
    "from sklearn.naive_bayes import GaussianNB\n",
    "from sklearn.ensemble import RandomForestClassifier"
   ]
  },
  {
   "cell_type": "code",
   "execution_count": 2,
   "metadata": {
    "collapsed": false
   },
   "outputs": [],
   "source": [
    "train_df = pd.read_csv('train.csv', header =None)\n",
    "train_df_y = pd.read_csv('train_labels.csv', header = None)\n",
    "test_df = pd.read_csv('test.csv', header =None)"
   ]
  },
  {
   "cell_type": "code",
   "execution_count": 3,
   "metadata": {
    "collapsed": false
   },
   "outputs": [
    {
     "data": {
      "text/html": [
       "<div>\n",
       "<table border=\"1\" class=\"dataframe\">\n",
       "  <thead>\n",
       "    <tr style=\"text-align: right;\">\n",
       "      <th></th>\n",
       "      <th>0</th>\n",
       "    </tr>\n",
       "  </thead>\n",
       "  <tbody>\n",
       "    <tr>\n",
       "      <th>count</th>\n",
       "      <td>600.000000</td>\n",
       "    </tr>\n",
       "    <tr>\n",
       "      <th>mean</th>\n",
       "      <td>0.421667</td>\n",
       "    </tr>\n",
       "    <tr>\n",
       "      <th>std</th>\n",
       "      <td>0.494238</td>\n",
       "    </tr>\n",
       "    <tr>\n",
       "      <th>min</th>\n",
       "      <td>0.000000</td>\n",
       "    </tr>\n",
       "    <tr>\n",
       "      <th>25%</th>\n",
       "      <td>0.000000</td>\n",
       "    </tr>\n",
       "    <tr>\n",
       "      <th>50%</th>\n",
       "      <td>0.000000</td>\n",
       "    </tr>\n",
       "    <tr>\n",
       "      <th>75%</th>\n",
       "      <td>1.000000</td>\n",
       "    </tr>\n",
       "    <tr>\n",
       "      <th>max</th>\n",
       "      <td>1.000000</td>\n",
       "    </tr>\n",
       "  </tbody>\n",
       "</table>\n",
       "</div>"
      ],
      "text/plain": [
       "                0\n",
       "count  600.000000\n",
       "mean     0.421667\n",
       "std      0.494238\n",
       "min      0.000000\n",
       "25%      0.000000\n",
       "50%      0.000000\n",
       "75%      1.000000\n",
       "max      1.000000"
      ]
     },
     "execution_count": 3,
     "metadata": {},
     "output_type": "execute_result"
    }
   ],
   "source": [
    "train_df_y.describe()"
   ]
  },
  {
   "cell_type": "code",
   "execution_count": 4,
   "metadata": {
    "collapsed": false
   },
   "outputs": [
    {
     "name": "stderr",
     "output_type": "stream",
     "text": [
      "/Users/jamesmwakichako/anaconda3/lib/python3.5/site-packages/numpy/lib/function_base.py:3834: RuntimeWarning: Invalid value encountered in percentile\n",
      "  RuntimeWarning)\n"
     ]
    },
    {
     "data": {
      "text/html": [
       "<div>\n",
       "<table border=\"1\" class=\"dataframe\">\n",
       "  <thead>\n",
       "    <tr style=\"text-align: right;\">\n",
       "      <th></th>\n",
       "      <th>0</th>\n",
       "      <th>1</th>\n",
       "      <th>2</th>\n",
       "      <th>3</th>\n",
       "      <th>4</th>\n",
       "      <th>5</th>\n",
       "      <th>6</th>\n",
       "      <th>7</th>\n",
       "      <th>8</th>\n",
       "      <th>9</th>\n",
       "      <th>...</th>\n",
       "      <th>90</th>\n",
       "      <th>91</th>\n",
       "      <th>92</th>\n",
       "      <th>93</th>\n",
       "      <th>94</th>\n",
       "      <th>95</th>\n",
       "      <th>96</th>\n",
       "      <th>97</th>\n",
       "      <th>98</th>\n",
       "      <th>99</th>\n",
       "    </tr>\n",
       "  </thead>\n",
       "  <tbody>\n",
       "    <tr>\n",
       "      <th>count</th>\n",
       "      <td>585.000000</td>\n",
       "      <td>590.000000</td>\n",
       "      <td>580.000000</td>\n",
       "      <td>580.000000</td>\n",
       "      <td>575.000000</td>\n",
       "      <td>584.000000</td>\n",
       "      <td>587.000000</td>\n",
       "      <td>583.000000</td>\n",
       "      <td>581.000000</td>\n",
       "      <td>581.000000</td>\n",
       "      <td>...</td>\n",
       "      <td>579.000000</td>\n",
       "      <td>585.000000</td>\n",
       "      <td>584.000000</td>\n",
       "      <td>578.000000</td>\n",
       "      <td>571.000000</td>\n",
       "      <td>583.000000</td>\n",
       "      <td>584.000000</td>\n",
       "      <td>582.000000</td>\n",
       "      <td>581.000000</td>\n",
       "      <td>574.000000</td>\n",
       "    </tr>\n",
       "    <tr>\n",
       "      <th>mean</th>\n",
       "      <td>0.326534</td>\n",
       "      <td>2.557716</td>\n",
       "      <td>290.594555</td>\n",
       "      <td>2.643836</td>\n",
       "      <td>0.182192</td>\n",
       "      <td>2.510491</td>\n",
       "      <td>2.642292</td>\n",
       "      <td>2.552223</td>\n",
       "      <td>2.501381</td>\n",
       "      <td>0.127933</td>\n",
       "      <td>...</td>\n",
       "      <td>0.083359</td>\n",
       "      <td>2.532718</td>\n",
       "      <td>0.174124</td>\n",
       "      <td>0.094121</td>\n",
       "      <td>0.174487</td>\n",
       "      <td>0.111907</td>\n",
       "      <td>2.538155</td>\n",
       "      <td>2.604494</td>\n",
       "      <td>0.182136</td>\n",
       "      <td>0.152312</td>\n",
       "    </tr>\n",
       "    <tr>\n",
       "      <th>std</th>\n",
       "      <td>0.545283</td>\n",
       "      <td>1.433982</td>\n",
       "      <td>621.384645</td>\n",
       "      <td>1.446750</td>\n",
       "      <td>0.420896</td>\n",
       "      <td>1.449157</td>\n",
       "      <td>1.472695</td>\n",
       "      <td>1.449577</td>\n",
       "      <td>1.451475</td>\n",
       "      <td>0.386757</td>\n",
       "      <td>...</td>\n",
       "      <td>0.194025</td>\n",
       "      <td>1.442497</td>\n",
       "      <td>0.610803</td>\n",
       "      <td>0.366975</td>\n",
       "      <td>0.564201</td>\n",
       "      <td>0.217228</td>\n",
       "      <td>1.458332</td>\n",
       "      <td>1.419637</td>\n",
       "      <td>0.559075</td>\n",
       "      <td>0.302947</td>\n",
       "    </tr>\n",
       "    <tr>\n",
       "      <th>min</th>\n",
       "      <td>0.000445</td>\n",
       "      <td>0.055685</td>\n",
       "      <td>1.007800</td>\n",
       "      <td>0.032513</td>\n",
       "      <td>0.000100</td>\n",
       "      <td>0.014350</td>\n",
       "      <td>0.016254</td>\n",
       "      <td>0.039126</td>\n",
       "      <td>0.036541</td>\n",
       "      <td>0.000090</td>\n",
       "      <td>...</td>\n",
       "      <td>0.000209</td>\n",
       "      <td>0.020904</td>\n",
       "      <td>0.000178</td>\n",
       "      <td>0.000131</td>\n",
       "      <td>0.000338</td>\n",
       "      <td>0.000447</td>\n",
       "      <td>0.020070</td>\n",
       "      <td>0.045843</td>\n",
       "      <td>0.000553</td>\n",
       "      <td>0.000018</td>\n",
       "    </tr>\n",
       "    <tr>\n",
       "      <th>25%</th>\n",
       "      <td>NaN</td>\n",
       "      <td>NaN</td>\n",
       "      <td>NaN</td>\n",
       "      <td>NaN</td>\n",
       "      <td>NaN</td>\n",
       "      <td>NaN</td>\n",
       "      <td>NaN</td>\n",
       "      <td>NaN</td>\n",
       "      <td>NaN</td>\n",
       "      <td>NaN</td>\n",
       "      <td>...</td>\n",
       "      <td>NaN</td>\n",
       "      <td>NaN</td>\n",
       "      <td>NaN</td>\n",
       "      <td>NaN</td>\n",
       "      <td>NaN</td>\n",
       "      <td>NaN</td>\n",
       "      <td>NaN</td>\n",
       "      <td>NaN</td>\n",
       "      <td>NaN</td>\n",
       "      <td>NaN</td>\n",
       "    </tr>\n",
       "    <tr>\n",
       "      <th>50%</th>\n",
       "      <td>NaN</td>\n",
       "      <td>NaN</td>\n",
       "      <td>NaN</td>\n",
       "      <td>NaN</td>\n",
       "      <td>NaN</td>\n",
       "      <td>NaN</td>\n",
       "      <td>NaN</td>\n",
       "      <td>NaN</td>\n",
       "      <td>NaN</td>\n",
       "      <td>NaN</td>\n",
       "      <td>...</td>\n",
       "      <td>NaN</td>\n",
       "      <td>NaN</td>\n",
       "      <td>NaN</td>\n",
       "      <td>NaN</td>\n",
       "      <td>NaN</td>\n",
       "      <td>NaN</td>\n",
       "      <td>NaN</td>\n",
       "      <td>NaN</td>\n",
       "      <td>NaN</td>\n",
       "      <td>NaN</td>\n",
       "    </tr>\n",
       "    <tr>\n",
       "      <th>75%</th>\n",
       "      <td>NaN</td>\n",
       "      <td>NaN</td>\n",
       "      <td>NaN</td>\n",
       "      <td>NaN</td>\n",
       "      <td>NaN</td>\n",
       "      <td>NaN</td>\n",
       "      <td>NaN</td>\n",
       "      <td>NaN</td>\n",
       "      <td>NaN</td>\n",
       "      <td>NaN</td>\n",
       "      <td>...</td>\n",
       "      <td>NaN</td>\n",
       "      <td>NaN</td>\n",
       "      <td>NaN</td>\n",
       "      <td>NaN</td>\n",
       "      <td>NaN</td>\n",
       "      <td>NaN</td>\n",
       "      <td>NaN</td>\n",
       "      <td>NaN</td>\n",
       "      <td>NaN</td>\n",
       "      <td>NaN</td>\n",
       "    </tr>\n",
       "    <tr>\n",
       "      <th>max</th>\n",
       "      <td>5.176600</td>\n",
       "      <td>5.064400</td>\n",
       "      <td>9163.100000</td>\n",
       "      <td>5.092100</td>\n",
       "      <td>4.605000</td>\n",
       "      <td>5.088200</td>\n",
       "      <td>5.056600</td>\n",
       "      <td>5.088800</td>\n",
       "      <td>5.072300</td>\n",
       "      <td>4.347800</td>\n",
       "      <td>...</td>\n",
       "      <td>3.838700</td>\n",
       "      <td>5.058300</td>\n",
       "      <td>11.120000</td>\n",
       "      <td>7.208400</td>\n",
       "      <td>5.217900</td>\n",
       "      <td>2.383400</td>\n",
       "      <td>5.073700</td>\n",
       "      <td>5.081900</td>\n",
       "      <td>7.693400</td>\n",
       "      <td>3.588100</td>\n",
       "    </tr>\n",
       "  </tbody>\n",
       "</table>\n",
       "<p>8 rows × 100 columns</p>\n",
       "</div>"
      ],
      "text/plain": [
       "               0           1            2           3           4   \\\n",
       "count  585.000000  590.000000   580.000000  580.000000  575.000000   \n",
       "mean     0.326534    2.557716   290.594555    2.643836    0.182192   \n",
       "std      0.545283    1.433982   621.384645    1.446750    0.420896   \n",
       "min      0.000445    0.055685     1.007800    0.032513    0.000100   \n",
       "25%           NaN         NaN          NaN         NaN         NaN   \n",
       "50%           NaN         NaN          NaN         NaN         NaN   \n",
       "75%           NaN         NaN          NaN         NaN         NaN   \n",
       "max      5.176600    5.064400  9163.100000    5.092100    4.605000   \n",
       "\n",
       "               5           6           7           8           9      ...      \\\n",
       "count  584.000000  587.000000  583.000000  581.000000  581.000000     ...       \n",
       "mean     2.510491    2.642292    2.552223    2.501381    0.127933     ...       \n",
       "std      1.449157    1.472695    1.449577    1.451475    0.386757     ...       \n",
       "min      0.014350    0.016254    0.039126    0.036541    0.000090     ...       \n",
       "25%           NaN         NaN         NaN         NaN         NaN     ...       \n",
       "50%           NaN         NaN         NaN         NaN         NaN     ...       \n",
       "75%           NaN         NaN         NaN         NaN         NaN     ...       \n",
       "max      5.088200    5.056600    5.088800    5.072300    4.347800     ...       \n",
       "\n",
       "               90          91          92          93          94          95  \\\n",
       "count  579.000000  585.000000  584.000000  578.000000  571.000000  583.000000   \n",
       "mean     0.083359    2.532718    0.174124    0.094121    0.174487    0.111907   \n",
       "std      0.194025    1.442497    0.610803    0.366975    0.564201    0.217228   \n",
       "min      0.000209    0.020904    0.000178    0.000131    0.000338    0.000447   \n",
       "25%           NaN         NaN         NaN         NaN         NaN         NaN   \n",
       "50%           NaN         NaN         NaN         NaN         NaN         NaN   \n",
       "75%           NaN         NaN         NaN         NaN         NaN         NaN   \n",
       "max      3.838700    5.058300   11.120000    7.208400    5.217900    2.383400   \n",
       "\n",
       "               96          97          98          99  \n",
       "count  584.000000  582.000000  581.000000  574.000000  \n",
       "mean     2.538155    2.604494    0.182136    0.152312  \n",
       "std      1.458332    1.419637    0.559075    0.302947  \n",
       "min      0.020070    0.045843    0.000553    0.000018  \n",
       "25%           NaN         NaN         NaN         NaN  \n",
       "50%           NaN         NaN         NaN         NaN  \n",
       "75%           NaN         NaN         NaN         NaN  \n",
       "max      5.073700    5.081900    7.693400    3.588100  \n",
       "\n",
       "[8 rows x 100 columns]"
      ]
     },
     "execution_count": 4,
     "metadata": {},
     "output_type": "execute_result"
    }
   ],
   "source": [
    "train_df.describe()"
   ]
  },
  {
   "cell_type": "code",
   "execution_count": 5,
   "metadata": {
    "collapsed": false
   },
   "outputs": [],
   "source": [
    "missing_perc=train_df.apply(lambda x: 100*(1-x.count().sum()/(1.0*len(x))))\n",
    "sorted_missing = missing_perc.sort_values(ascending = False)\n"
   ]
  },
  {
   "cell_type": "code",
   "execution_count": 6,
   "metadata": {
    "collapsed": false
   },
   "outputs": [],
   "source": [
    "#Handling missing data. Chose to replace missing values with the mean of respective\n",
    "#columns\n",
    "train_df = train_df.fillna(train_df.mean())"
   ]
  },
  {
   "cell_type": "code",
   "execution_count": 7,
   "metadata": {
    "collapsed": false
   },
   "outputs": [],
   "source": [
    "test_df = test_df.fillna(test_df.mean())\n"
   ]
  },
  {
   "cell_type": "code",
   "execution_count": 8,
   "metadata": {
    "collapsed": false
   },
   "outputs": [
    {
     "data": {
      "text/plain": [
       "0.78282828282828287"
      ]
     },
     "execution_count": 8,
     "metadata": {},
     "output_type": "execute_result"
    }
   ],
   "source": [
    "naive_bayes = GaussianNB()\n",
    "X_train, X_test, y_train, y_test = train_test_split(train_df, train_df_y.values.ravel(), train_size = 0.67, random_state = 0)\n",
    "naive_bayes = naive_bayes.fit(X_train, y_train)\n",
    "accuracy = naive_bayes.score(X_test, y_test)\n",
    "accuracy\n"
   ]
  },
  {
   "cell_type": "code",
   "execution_count": 9,
   "metadata": {
    "collapsed": false
   },
   "outputs": [],
   "source": [
    "naive_bayes = GaussianNB()\n",
    "naive_bayes = naive_bayes.fit(train_df, train_df_y.values.ravel())\n",
    "pred_values = naive_bayes.predict(test_df)\n"
   ]
  },
  {
   "cell_type": "code",
   "execution_count": 10,
   "metadata": {
    "collapsed": false
   },
   "outputs": [
    {
     "data": {
      "text/plain": [
       "0.82828282828282829"
      ]
     },
     "execution_count": 10,
     "metadata": {},
     "output_type": "execute_result"
    }
   ],
   "source": [
    "rand_forest = RandomForestClassifier()\n",
    "X_train, X_test, y_train, y_test = train_test_split(train_df, train_df_y.values.ravel(), train_size = 0.67, random_state = 0)\n",
    "rand_forest = rand_forest.fit(X_train, y_train)\n",
    "accuracy = rand_forest.score(X_test, y_test)\n",
    "accuracy"
   ]
  },
  {
   "cell_type": "code",
   "execution_count": null,
   "metadata": {
    "collapsed": true
   },
   "outputs": [],
   "source": []
  }
 ],
 "metadata": {
  "kernelspec": {
   "display_name": "Python 3",
   "language": "python",
   "name": "python3"
  },
  "language_info": {
   "codemirror_mode": {
    "name": "ipython",
    "version": 3
   },
   "file_extension": ".py",
   "mimetype": "text/x-python",
   "name": "python",
   "nbconvert_exporter": "python",
   "pygments_lexer": "ipython3",
   "version": "3.5.2"
  }
 },
 "nbformat": 4,
 "nbformat_minor": 0
}
